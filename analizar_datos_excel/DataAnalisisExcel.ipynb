{
 "cells": [
  {
   "cell_type": "markdown",
   "id": "63b6388a",
   "metadata": {},
   "source": [
    "# Analizando datos de un libro de Excel con Python\n",
    "#!pip install pandas\n",
    "#!pip install openpyxl\n",
    "!pip install xlsxwriter"
   ]
  },
  {
   "cell_type": "markdown",
   "id": "52271c61",
   "metadata": {},
   "source": [
    "# Lectura del libro de Excel y almacenamiento en dataframe"
   ]
  },
  {
   "cell_type": "code",
   "execution_count": 1,
   "id": "1a15fc3c",
   "metadata": {},
   "outputs": [],
   "source": [
    "import pandas as pd"
   ]
  },
  {
   "cell_type": "code",
   "execution_count": 2,
   "id": "9c9438ee",
   "metadata": {
    "scrolled": false
   },
   "outputs": [],
   "source": [
    "excelPath = r\"dataset.xlsx\"\n",
    "dataframe = pd.read_excel(excelPath, \"Ventas\")\n",
    "#print(dataframe)\n",
    "#dataframe.style"
   ]
  },
  {
   "cell_type": "markdown",
   "id": "20fe52b6",
   "metadata": {},
   "source": [
    "# Calcular el tital de ventas y equipos vendidos"
   ]
  },
  {
   "cell_type": "code",
   "execution_count": 3,
   "id": "be04d60c",
   "metadata": {},
   "outputs": [],
   "source": [
    "totalSales = dataframe[\"Total\"].sum()\n",
    "#totalSales\n",
    "# Calcular el total de filas\n",
    "totalUnits = len(dataframe.index)\n",
    "#totalUnits"
   ]
  },
  {
   "cell_type": "code",
   "execution_count": 4,
   "id": "526f879b",
   "metadata": {},
   "outputs": [
    {
     "name": "stdout",
     "output_type": "stream",
     "text": [
      "Unidades vendidas: 939\n",
      "Unidades totales: $2,904,375,461.46\n"
     ]
    }
   ],
   "source": [
    "print(f\"Unidades vendidas: {totalUnits}\")\n",
    "print(\"Unidades totales: \" + \"${:0,.2f}\".format(totalSales))"
   ]
  },
  {
   "cell_type": "code",
   "execution_count": 5,
   "id": "86bd1d77",
   "metadata": {},
   "outputs": [
    {
     "name": "stdout",
     "output_type": "stream",
     "text": [
      "Ventas totales $2,904,375,461.46 y Unidades vendidas 939\n"
     ]
    }
   ],
   "source": [
    "startMessage = \"Ventas totales ${sales:0,.2f} y Unidades vendidas {units}\".format(sales=totalSales, units=totalUnits)\n",
    "print(startMessage)"
   ]
  },
  {
   "cell_type": "markdown",
   "id": "bb41eb81",
   "metadata": {},
   "source": [
    "# Convertir a DataFrame"
   ]
  },
  {
   "cell_type": "code",
   "execution_count": 6,
   "id": "c3b9b94e",
   "metadata": {},
   "outputs": [
    {
     "data": {
      "text/html": [
       "<div>\n",
       "<style scoped>\n",
       "    .dataframe tbody tr th:only-of-type {\n",
       "        vertical-align: middle;\n",
       "    }\n",
       "\n",
       "    .dataframe tbody tr th {\n",
       "        vertical-align: top;\n",
       "    }\n",
       "\n",
       "    .dataframe thead th {\n",
       "        text-align: right;\n",
       "    }\n",
       "</style>\n",
       "<table border=\"1\" class=\"dataframe\">\n",
       "  <thead>\n",
       "    <tr style=\"text-align: right;\">\n",
       "      <th></th>\n",
       "      <th>Ventas totales:</th>\n",
       "      <th>Unidades vendidas:</th>\n",
       "    </tr>\n",
       "  </thead>\n",
       "  <tbody>\n",
       "    <tr>\n",
       "      <th>0</th>\n",
       "      <td>2.904375e+09</td>\n",
       "      <td>939</td>\n",
       "    </tr>\n",
       "  </tbody>\n",
       "</table>\n",
       "</div>"
      ],
      "text/plain": [
       "   Ventas totales:  Unidades vendidas: \n",
       "0     2.904375e+09                  939"
      ]
     },
     "execution_count": 6,
     "metadata": {},
     "output_type": "execute_result"
    }
   ],
   "source": [
    "valuesDict = {\"Ventas totales:\" :[totalSales], \"Unidades vendidas: \":[totalUnits] }\n",
    "#valuesDict\n",
    "resultFrame =pd.DataFrame.from_dict(valuesDict)\n",
    "resultFrame"
   ]
  },
  {
   "cell_type": "markdown",
   "id": "3b823307",
   "metadata": {},
   "source": [
    "## Ventas por marca"
   ]
  },
  {
   "cell_type": "code",
   "execution_count": 7,
   "id": "a1bb0443",
   "metadata": {},
   "outputs": [
    {
     "data": {
      "text/html": [
       "<style type=\"text/css\">\n",
       "</style>\n",
       "<table id=\"T_be8cc\">\n",
       "  <thead>\n",
       "    <tr>\n",
       "      <th class=\"blank level0\" >&nbsp;</th>\n",
       "      <th id=\"T_be8cc_level0_col0\" class=\"col_heading level0 col0\" >Cantidad</th>\n",
       "      <th id=\"T_be8cc_level0_col1\" class=\"col_heading level0 col1\" >Total</th>\n",
       "    </tr>\n",
       "    <tr>\n",
       "      <th class=\"index_name level0\" >Marca</th>\n",
       "      <th class=\"blank col0\" >&nbsp;</th>\n",
       "      <th class=\"blank col1\" >&nbsp;</th>\n",
       "    </tr>\n",
       "  </thead>\n",
       "  <tbody>\n",
       "    <tr>\n",
       "      <th id=\"T_be8cc_level0_row0\" class=\"row_heading level0 row0\" >Apple</th>\n",
       "      <td id=\"T_be8cc_row0_col0\" class=\"data row0 col0\" >64711</td>\n",
       "      <td id=\"T_be8cc_row0_col1\" class=\"data row0 col1\" >701952542.600000</td>\n",
       "    </tr>\n",
       "    <tr>\n",
       "      <th id=\"T_be8cc_level0_row1\" class=\"row_heading level0 row1\" >Samsung</th>\n",
       "      <td id=\"T_be8cc_row1_col0\" class=\"data row1 col0\" >118526</td>\n",
       "      <td id=\"T_be8cc_row1_col1\" class=\"data row1 col1\" >1197025193.860000</td>\n",
       "    </tr>\n",
       "    <tr>\n",
       "      <th id=\"T_be8cc_level0_row2\" class=\"row_heading level0 row2\" >Xiaomi</th>\n",
       "      <td id=\"T_be8cc_row2_col0\" class=\"data row2 col0\" >75143</td>\n",
       "      <td id=\"T_be8cc_row2_col1\" class=\"data row2 col1\" >1005397725.000000</td>\n",
       "    </tr>\n",
       "  </tbody>\n",
       "</table>\n"
      ],
      "text/plain": [
       "<pandas.io.formats.style.Styler at 0x2862b979ea0>"
      ]
     },
     "execution_count": 7,
     "metadata": {},
     "output_type": "execute_result"
    }
   ],
   "source": [
    "salesByBranchFrame =  dataframe.groupby(\"Marca\")[[\"Cantidad\",\"Total\"]].sum()\n",
    "salesByBranchFrame.style"
   ]
  },
  {
   "cell_type": "markdown",
   "id": "5bfe11fb",
   "metadata": {},
   "source": [
    "## Marca con mayor ventas"
   ]
  },
  {
   "cell_type": "code",
   "execution_count": 8,
   "id": "1c535837",
   "metadata": {},
   "outputs": [
    {
     "data": {
      "text/html": [
       "<style type=\"text/css\">\n",
       "</style>\n",
       "<table id=\"T_ac621\">\n",
       "  <thead>\n",
       "    <tr>\n",
       "      <th class=\"blank level0\" >&nbsp;</th>\n",
       "      <th id=\"T_ac621_level0_col0\" class=\"col_heading level0 col0\" >Total</th>\n",
       "    </tr>\n",
       "    <tr>\n",
       "      <th class=\"index_name level0\" >Marca</th>\n",
       "      <th class=\"blank col0\" >&nbsp;</th>\n",
       "    </tr>\n",
       "  </thead>\n",
       "  <tbody>\n",
       "    <tr>\n",
       "      <th id=\"T_ac621_level0_row0\" class=\"row_heading level0 row0\" >Samsung</th>\n",
       "      <td id=\"T_ac621_row0_col0\" class=\"data row0 col0\" >1197025193.860000</td>\n",
       "    </tr>\n",
       "  </tbody>\n",
       "</table>\n"
      ],
      "text/plain": [
       "<pandas.io.formats.style.Styler at 0x2862bbbfa60>"
      ]
     },
     "execution_count": 8,
     "metadata": {},
     "output_type": "execute_result"
    }
   ],
   "source": [
    "topOneBranchFrame = salesByBranchFrame[\"Total\"].sort_values(ascending=False).head(1)\n",
    "topOneBranchFrame = topOneBranchFrame.to_frame()\n",
    "topOneBranchFrame.style"
   ]
  },
  {
   "cell_type": "markdown",
   "id": "7a55ad95",
   "metadata": {},
   "source": [
    "## Guardar dataframes en un nuevo libro de Excel"
   ]
  },
  {
   "cell_type": "code",
   "execution_count": 10,
   "id": "7efc9009",
   "metadata": {},
   "outputs": [
    {
     "name": "stderr",
     "output_type": "stream",
     "text": [
      "C:\\Users\\Usuario\\AppData\\Local\\Temp\\ipykernel_10376\\3244939109.py:7: FutureWarning: save is not part of the public API, usage can give unexpected results and will be removed in a future version\n",
      "  writer.save()\n"
     ]
    }
   ],
   "source": [
    "writer = pd.ExcelWriter(\"NuevoReporte.xlsx\", engine=\"xlsxwriter\")\n",
    "\n",
    "resultFrame.to_excel(writer,sheet_name=\"Resultados\", index=False)\n",
    "salesByBranchFrame.to_excel(writer,sheet_name=\"Resumen por marca\", startcol=1, startrow=1)\n",
    "topOneBranchFrame.to_excel(writer, sheet_name=\"Marca más vendida\")\n",
    "\n",
    "writer.save()"
   ]
  }
 ],
 "metadata": {
  "kernelspec": {
   "display_name": "Python 3 (ipykernel)",
   "language": "python",
   "name": "python3"
  },
  "language_info": {
   "codemirror_mode": {
    "name": "ipython",
    "version": 3
   },
   "file_extension": ".py",
   "mimetype": "text/x-python",
   "name": "python",
   "nbconvert_exporter": "python",
   "pygments_lexer": "ipython3",
   "version": "3.10.9"
  }
 },
 "nbformat": 4,
 "nbformat_minor": 5
}
