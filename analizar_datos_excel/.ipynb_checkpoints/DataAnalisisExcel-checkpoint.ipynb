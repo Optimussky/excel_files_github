{
 "cells": [
  {
   "cell_type": "markdown",
   "id": "0e456999",
   "metadata": {},
   "source": [
    "# Analizando datos de un libro de Excel con Python\n",
    "!pip install pandas\n",
    "!pip install openpyxl\n",
    "!pip install xlsxwriter"
   ]
  },
  {
   "cell_type": "markdown",
   "id": "33a2ea22",
   "metadata": {},
   "source": [
    "# Lectura del libro de Excel y almacenamiento en dataframe"
   ]
  },
  {
   "cell_type": "code",
   "execution_count": 11,
   "id": "ba9382ff",
   "metadata": {},
   "outputs": [],
   "source": [
    "import pandas as pd"
   ]
  },
  {
   "cell_type": "code",
   "execution_count": 15,
   "id": "d6300b87",
   "metadata": {
    "scrolled": false
   },
   "outputs": [],
   "source": [
    "excelPath = r\"dataset.xlsx\"\n",
    "dataframe = pd.read_excel(excelPath, \"Ventas\")\n",
    "#print(dataframe)\n",
    "#dataframe.style"
   ]
  },
  {
   "cell_type": "markdown",
   "id": "9facb390",
   "metadata": {},
   "source": [
    "# Calcular el tital de ventas y equipos vendidos"
   ]
  },
  {
   "cell_type": "code",
   "execution_count": 21,
   "id": "fb4a2326",
   "metadata": {},
   "outputs": [],
   "source": [
    "totalSales = dataframe[\"Total\"].sum()\n",
    "#totalSales\n",
    "# Calcular el total de filas\n",
    "totalUnits = len(dataframe.index)\n",
    "#totalUnits"
   ]
  },
  {
   "cell_type": "code",
   "execution_count": 27,
   "id": "84048140",
   "metadata": {},
   "outputs": [
    {
     "name": "stdout",
     "output_type": "stream",
     "text": [
      "Unidades vendidas: 939\n",
      "Unidades totales: $2,904,375,461.46\n"
     ]
    }
   ],
   "source": [
    "print(f\"Unidades vendidas: {totalUnits}\")\n",
    "print(\"Unidades totales: \" + \"${:0,.2f}\".format(totalSales))"
   ]
  },
  {
   "cell_type": "code",
   "execution_count": 29,
   "id": "040f2486",
   "metadata": {},
   "outputs": [
    {
     "name": "stdout",
     "output_type": "stream",
     "text": [
      "Ventas totales $2,904,375,461.46 y Unidades vendidas 939\n"
     ]
    }
   ],
   "source": [
    "startMessage = \"Ventas totales ${sales:0,.2f} y Unidades vendidas {units}\".format(sales=totalSales, units=totalUnits)\n",
    "print(startMessage)"
   ]
  },
  {
   "cell_type": "markdown",
   "id": "90d5e96d",
   "metadata": {},
   "source": [
    "# Convertir a DataFrame"
   ]
  },
  {
   "cell_type": "code",
   "execution_count": 37,
   "id": "70c316ec",
   "metadata": {},
   "outputs": [
    {
     "data": {
      "text/html": [
       "<div>\n",
       "<style scoped>\n",
       "    .dataframe tbody tr th:only-of-type {\n",
       "        vertical-align: middle;\n",
       "    }\n",
       "\n",
       "    .dataframe tbody tr th {\n",
       "        vertical-align: top;\n",
       "    }\n",
       "\n",
       "    .dataframe thead th {\n",
       "        text-align: right;\n",
       "    }\n",
       "</style>\n",
       "<table border=\"1\" class=\"dataframe\">\n",
       "  <thead>\n",
       "    <tr style=\"text-align: right;\">\n",
       "      <th></th>\n",
       "      <th>Ventas totales:</th>\n",
       "      <th>Unidades vendidas:</th>\n",
       "    </tr>\n",
       "  </thead>\n",
       "  <tbody>\n",
       "    <tr>\n",
       "      <th>0</th>\n",
       "      <td>2.904375e+09</td>\n",
       "      <td>939</td>\n",
       "    </tr>\n",
       "  </tbody>\n",
       "</table>\n",
       "</div>"
      ],
      "text/plain": [
       "   Ventas totales:  Unidades vendidas: \n",
       "0     2.904375e+09                  939"
      ]
     },
     "execution_count": 37,
     "metadata": {},
     "output_type": "execute_result"
    }
   ],
   "source": [
    "valuesDict = {\"Ventas totales:\" :[totalSales], \"Unidades vendidas: \":[totalUnits] }\n",
    "#valuesDict\n",
    "resultFrame =pd.DataFrame.from_dict(valuesDict)\n",
    "resultFrame"
   ]
  },
  {
   "cell_type": "markdown",
   "id": "6e953c17",
   "metadata": {},
   "source": [
    "## Ventas por marca"
   ]
  },
  {
   "cell_type": "code",
   "execution_count": 48,
   "id": "0c7aa306",
   "metadata": {},
   "outputs": [
    {
     "data": {
      "text/html": [
       "<style type=\"text/css\">\n",
       "</style>\n",
       "<table id=\"T_b6294\">\n",
       "  <thead>\n",
       "    <tr>\n",
       "      <th class=\"blank level0\" >&nbsp;</th>\n",
       "      <th id=\"T_b6294_level0_col0\" class=\"col_heading level0 col0\" >Cantidad</th>\n",
       "      <th id=\"T_b6294_level0_col1\" class=\"col_heading level0 col1\" >Total</th>\n",
       "    </tr>\n",
       "    <tr>\n",
       "      <th class=\"index_name level0\" >Marca</th>\n",
       "      <th class=\"blank col0\" >&nbsp;</th>\n",
       "      <th class=\"blank col1\" >&nbsp;</th>\n",
       "    </tr>\n",
       "  </thead>\n",
       "  <tbody>\n",
       "    <tr>\n",
       "      <th id=\"T_b6294_level0_row0\" class=\"row_heading level0 row0\" >Apple</th>\n",
       "      <td id=\"T_b6294_row0_col0\" class=\"data row0 col0\" >64711</td>\n",
       "      <td id=\"T_b6294_row0_col1\" class=\"data row0 col1\" >701952542.600000</td>\n",
       "    </tr>\n",
       "    <tr>\n",
       "      <th id=\"T_b6294_level0_row1\" class=\"row_heading level0 row1\" >Samsung</th>\n",
       "      <td id=\"T_b6294_row1_col0\" class=\"data row1 col0\" >118526</td>\n",
       "      <td id=\"T_b6294_row1_col1\" class=\"data row1 col1\" >1197025193.860000</td>\n",
       "    </tr>\n",
       "    <tr>\n",
       "      <th id=\"T_b6294_level0_row2\" class=\"row_heading level0 row2\" >Xiaomi</th>\n",
       "      <td id=\"T_b6294_row2_col0\" class=\"data row2 col0\" >75143</td>\n",
       "      <td id=\"T_b6294_row2_col1\" class=\"data row2 col1\" >1005397725.000000</td>\n",
       "    </tr>\n",
       "  </tbody>\n",
       "</table>\n"
      ],
      "text/plain": [
       "<pandas.io.formats.style.Styler at 0x299aeb16e90>"
      ]
     },
     "execution_count": 48,
     "metadata": {},
     "output_type": "execute_result"
    }
   ],
   "source": [
    "salesByBranchFrame =  dataframe.groupby(\"Marca\")[[\"Cantidad\",\"Total\"]].sum()\n",
    "salesByBranchFrame.style"
   ]
  },
  {
   "cell_type": "markdown",
   "id": "3efbf5c4",
   "metadata": {},
   "source": [
    "## Marca con mayor ventas"
   ]
  },
  {
   "cell_type": "code",
   "execution_count": 56,
   "id": "76cd2347",
   "metadata": {},
   "outputs": [
    {
     "data": {
      "text/html": [
       "<style type=\"text/css\">\n",
       "</style>\n",
       "<table id=\"T_ea951\">\n",
       "  <thead>\n",
       "    <tr>\n",
       "      <th class=\"blank level0\" >&nbsp;</th>\n",
       "      <th id=\"T_ea951_level0_col0\" class=\"col_heading level0 col0\" >Total</th>\n",
       "    </tr>\n",
       "    <tr>\n",
       "      <th class=\"index_name level0\" >Marca</th>\n",
       "      <th class=\"blank col0\" >&nbsp;</th>\n",
       "    </tr>\n",
       "  </thead>\n",
       "  <tbody>\n",
       "    <tr>\n",
       "      <th id=\"T_ea951_level0_row0\" class=\"row_heading level0 row0\" >Samsung</th>\n",
       "      <td id=\"T_ea951_row0_col0\" class=\"data row0 col0\" >1197025193.860000</td>\n",
       "    </tr>\n",
       "  </tbody>\n",
       "</table>\n"
      ],
      "text/plain": [
       "<pandas.io.formats.style.Styler at 0x299b0674d60>"
      ]
     },
     "execution_count": 56,
     "metadata": {},
     "output_type": "execute_result"
    }
   ],
   "source": [
    "topOneBranchFrame = salesByBranchFrame[\"Total\"].sort_values(ascending=False).head(1)\n",
    "topOneBranchFrame = topOneBranchFrame.to_frame()\n",
    "topOneBranchFrame.style"
   ]
  },
  {
   "cell_type": "markdown",
   "id": "e67dd53f",
   "metadata": {},
   "source": [
    "## Guardar dataframes en un nuevo libro de Excel"
   ]
  },
  {
   "cell_type": "code",
   "execution_count": 64,
   "id": "76051f9f",
   "metadata": {},
   "outputs": [
    {
     "ename": "ModuleNotFoundError",
     "evalue": "No module named 'xlsxwriter'",
     "output_type": "error",
     "traceback": [
      "\u001b[1;31m---------------------------------------------------------------------------\u001b[0m",
      "\u001b[1;31mModuleNotFoundError\u001b[0m                       Traceback (most recent call last)",
      "Cell \u001b[1;32mIn[64], line 1\u001b[0m\n\u001b[1;32m----> 1\u001b[0m writer \u001b[38;5;241m=\u001b[39m \u001b[43mpd\u001b[49m\u001b[38;5;241;43m.\u001b[39;49m\u001b[43mExcelWriter\u001b[49m\u001b[43m(\u001b[49m\u001b[38;5;124;43m\"\u001b[39;49m\u001b[38;5;124;43mNuevoReporte.xlsx\u001b[39;49m\u001b[38;5;124;43m\"\u001b[39;49m\u001b[43m,\u001b[49m\u001b[43m \u001b[49m\u001b[43mengine\u001b[49m\u001b[38;5;241;43m=\u001b[39;49m\u001b[38;5;124;43m\"\u001b[39;49m\u001b[38;5;124;43mxlsxwriter\u001b[39;49m\u001b[38;5;124;43m\"\u001b[39;49m\u001b[43m)\u001b[49m\n\u001b[0;32m      3\u001b[0m \u001b[38;5;66;03m#resultFrame.to_excel(writer,sheet_name=\"Resultados\", index=False)\u001b[39;00m\n\u001b[0;32m      4\u001b[0m \u001b[38;5;66;03m#salesByBranchFrame.to_excel(writer,sheet_name=\"Resumen por marca\", startcol=1, startrow=1)\u001b[39;00m\n\u001b[0;32m      5\u001b[0m \u001b[38;5;66;03m#topOneBranchFrame.to_excel(writer, sheet_name=\"Marca más vendida\")\u001b[39;00m\n\u001b[0;32m      7\u001b[0m writer\u001b[38;5;241m.\u001b[39msave()\n",
      "File \u001b[1;32m~\\.virtualenvs\\excel_files_github-3DKor-lO\\lib\\site-packages\\pandas\\io\\excel\\_xlsxwriter.py:198\u001b[0m, in \u001b[0;36mXlsxWriter.__init__\u001b[1;34m(self, path, engine, date_format, datetime_format, mode, storage_options, if_sheet_exists, engine_kwargs, **kwargs)\u001b[0m\n\u001b[0;32m    185\u001b[0m \u001b[38;5;28;01mdef\u001b[39;00m \u001b[38;5;21m__init__\u001b[39m(\n\u001b[0;32m    186\u001b[0m     \u001b[38;5;28mself\u001b[39m,\n\u001b[0;32m    187\u001b[0m     path: FilePath \u001b[38;5;241m|\u001b[39m WriteExcelBuffer \u001b[38;5;241m|\u001b[39m ExcelWriter,\n\u001b[1;32m   (...)\u001b[0m\n\u001b[0;32m    196\u001b[0m ) \u001b[38;5;241m-\u001b[39m\u001b[38;5;241m>\u001b[39m \u001b[38;5;28;01mNone\u001b[39;00m:\n\u001b[0;32m    197\u001b[0m     \u001b[38;5;66;03m# Use the xlsxwriter module as the Excel writer.\u001b[39;00m\n\u001b[1;32m--> 198\u001b[0m     \u001b[38;5;28;01mfrom\u001b[39;00m \u001b[38;5;21;01mxlsxwriter\u001b[39;00m \u001b[38;5;28;01mimport\u001b[39;00m Workbook\n\u001b[0;32m    200\u001b[0m     engine_kwargs \u001b[38;5;241m=\u001b[39m combine_kwargs(engine_kwargs, kwargs)\n\u001b[0;32m    202\u001b[0m     \u001b[38;5;28;01mif\u001b[39;00m mode \u001b[38;5;241m==\u001b[39m \u001b[38;5;124m\"\u001b[39m\u001b[38;5;124ma\u001b[39m\u001b[38;5;124m\"\u001b[39m:\n",
      "\u001b[1;31mModuleNotFoundError\u001b[0m: No module named 'xlsxwriter'"
     ]
    }
   ],
   "source": [
    "writer = pd.ExcelWriter(\"NuevoReporte.xlsx\", engine=\"xlsxwriter\")\n",
    "\n",
    "#resultFrame.to_excel(writer,sheet_name=\"Resultados\", index=False)\n",
    "#salesByBranchFrame.to_excel(writer,sheet_name=\"Resumen por marca\", startcol=1, startrow=1)\n",
    "#topOneBranchFrame.to_excel(writer, sheet_name=\"Marca más vendida\")\n",
    "\n",
    "#writer.save()"
   ]
  },
  {
   "cell_type": "code",
   "execution_count": null,
   "id": "23a15737",
   "metadata": {},
   "outputs": [],
   "source": []
  }
 ],
 "metadata": {
  "kernelspec": {
   "display_name": "Python 3 (ipykernel)",
   "language": "python",
   "name": "python3"
  },
  "language_info": {
   "codemirror_mode": {
    "name": "ipython",
    "version": 3
   },
   "file_extension": ".py",
   "mimetype": "text/x-python",
   "name": "python",
   "nbconvert_exporter": "python",
   "pygments_lexer": "ipython3",
   "version": "3.10.9"
  }
 },
 "nbformat": 4,
 "nbformat_minor": 5
}
